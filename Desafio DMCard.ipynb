{
 "cells": [
  {
   "cell_type": "markdown",
   "metadata": {},
   "source": [
    "# Tech Challenge DMCard\n",
    "\n",
    "Nome: Mateus Vallim Martins\n",
    "\n",
    "e-mail: mateus.vallim@usp.br\n",
    "\n",
    "## Introdução\n",
    "\n",
    "Para este desafio realizarei uma análise de todos os parênteses das expressões e não levarei em conta o restante de cada expressão, ou seja:\n",
    "- Não verificarei se há operadores depois da abertura de parênteses, por exemplo \"5-(+a/7)*15\";\n",
    "- Não verificarei se há operadores antes do fechamento de parênteses, por exemplo \"5-(a/7+)*15\";\n",
    "- E não verificarei a falta de um operador antes da abertura ou depois do fechamento de parênteses, por exemplo \"5(a/7)\", o que na matemática indicaria uma multiplicação implícita\n",
    "\n",
    "Antes de iniciar a execução do desafio vou analisar quantas vezes os parênteses aparecem em meio aos exemplos dados pelo próprio desafio, para que possamos ter um número de aparições razoável."
   ]
  },
  {
   "cell_type": "code",
   "execution_count": 44,
   "metadata": {},
   "outputs": [
    {
     "name": "stdout",
     "output_type": "stream",
     "text": [
      "Parenteses: 16\n",
      "Caracteres: 53\n",
      "30 %\n"
     ]
    }
   ],
   "source": [
    "exemplos = ['a+(bc)-2-a','(a+b(2-c)-2+a)*2','(ab-(2+c)','2(3-a))',')3+b*(2-c)(']\n",
    "todos_exemplos = ''.join(exemplos)\n",
    "\n",
    "abrir = todos_exemplos.count('(')\n",
    "fechar = todos_exemplos.count(')')\n",
    "tudo = len(todos_exemplos)\n",
    "print('Parenteses:',abrir+fechar)\n",
    "print('Caracteres:',tudo)\n",
    "print(round((abrir+fechar)*100/tudo),'%')"
   ]
  },
  {
   "cell_type": "markdown",
   "metadata": {},
   "source": [
    "## Primeiros passos\n",
    "\n",
    "Num primeiro momento vou criar a entrada com N expressões (1 <= N <= 10000), cada um com até 1000 caracteres, todos em formato de string tal que 30% destes caracteres serão caracteres de parênteses e os outros 70% será composto pelo alfabeto minúsculo, números e os operadores de soma \"+\", subtração \"-\", multiplicação \"*\" e divisão \"/\"."
   ]
  },
  {
   "cell_type": "code",
   "execution_count": 47,
   "metadata": {},
   "outputs": [
    {
     "data": {
      "text/plain": [
       "0       t*)3-2*-(u+-w+3*8lh*+-l+**(p/)-4a*((v9(5/5(-y+...\n",
       "1       )-((3+(mwo*/(+sj6(*/-(*-zc(0*b(g++eyzi6++)(9(*...\n",
       "2       w7yx-w/(/d/a))/f2-+)--)**(0-)*(/(i)(58/9o()k(-...\n",
       "3       21)x+s-xtf/((t)(*u*-3)m)))()p)*)(*)-()*(+)+3/z...\n",
       "4       (+9((()*)v2r**)+-/)(*+n)(+(xu)j4/*()()0p()+-()...\n",
       "                              ...                        \n",
       "9995    )(/s(90x-)*((*()o(j((*-+)//-+-*l)(/0+)0)(q--s-...\n",
       "9996    (+)*5x/p)61++2)h-*/l/)q-/(()+-)(r)-r-2+/)5/i))...\n",
       "9997    l/-+h-)/*(y/)x/(//(*(5*)(+-t*-r)()(+th)e(*a)b-...\n",
       "9998    bzw*)+li)+))ca+*(-*e*)*6i/)/bs)*+8(x/)s+4)-/jo...\n",
       "9999    )*pkw5(/)(o++c-1)/4/q*k(/-/(-)u)+(/)7/)b-)(++i...\n",
       "Name: entrada, Length: 10000, dtype: object"
      ]
     },
     "metadata": {},
     "output_type": "display_data"
    },
    {
     "name": "stdout",
     "output_type": "stream",
     "text": [
      "Wall time: 67.8 ms\n"
     ]
    }
   ],
   "source": [
    "%%time\n",
    "\n",
    "import pandas as pd\n",
    "import random\n",
    "import string  \n",
    "import secrets\n",
    "import re\n",
    "\n",
    "# Criação do banco de dados de entrada\n",
    "\"\"\"\n",
    "serie = pd.Series('', name=\"entrada\") # Uma nova série/coluna é criada para representar as equações de entrada\n",
    "\n",
    "N = 10000 # Número da lista de expressões\n",
    "for expressao in range(N): # É realizado um loop com N repetições para calcular uma expressão\n",
    "    C = round(random.uniform(1,1000)) # a variável C representa o número de caracteres da expressão N, que pode ser de 1 até 1000\n",
    "    e = '' # a variável e representa a expressão N em formato de string, começando sempre por uma string vazia\n",
    "    for caracter in range(C): # Um novo loop é realizado para decidir cada caracter da expressão e\n",
    "        if(random.random() > 0.3): # Como comentado, em 30% dos caracteres deverá ser parenteses\n",
    "            if(random.random() > 0.5): # Metade dos 70% dos outros caracteres poderá ser dividida entre números ou letras minúsculas\n",
    "                caract = secrets.choice(string.ascii_lowercase + string.digits)\n",
    "            else: # E a outra metade será composta por operadores matemáticos\n",
    "                caract = secrets.choice(\"+-*/\")\n",
    "        else: # Aqui são inseridos os 30% de caracteres de parenteses\n",
    "            caract = secrets.choice(\"()\")\n",
    "        e = e+caract # Ao final de cada loop interno da expressão, a variável e é atualizada com o novo caracter decidido\n",
    "    serie.loc[expressao] = e # Ao final de cada loop externo, a série serie é atualizada com a nova expressão e\n",
    "\n",
    "serie.to_pickle(\"serie.pkl.compress\", compression=\"gzip\") # Salvar os dados de entrada\n",
    "\"\"\"\n",
    "\n",
    "serie = pd.read_pickle(\"serie.pkl.compress\", compression=\"gzip\") # Abrir os dados salvos\n",
    "\n",
    "display(serie)"
   ]
  },
  {
   "cell_type": "markdown",
   "metadata": {},
   "source": [
    "## Análise dos dados de entrada\n",
    "\n",
    "Agora que temos uma coluna de dados (serie) com N expressões de quantidades diferentes de caracteres, faremos a análise de cada uma e isto resultará uma nova coluna de dados de strings 'incorrect' ou 'correct' correspondentes aos dados de entrada.\n",
    "\n",
    "Para isto, primeiramente será retirado qualquer caracter que não seja parênteses de todas as expressões, assim é possível contar com mais facilidade o número de abertura e fechamento dos parênteses como mostrado abaixo.\n",
    "\n",
    "(*a+3(/vn)-6/u**/hw4p*(a0q5*)+(+la)+6(c+()(**+... => (()()()(()(...\n",
    "\n",
    "Com a expressão mais \"limpa\" podemos definir algumas características para uma expressão possivelmente correta:\n",
    "- O número de '(' deve ser igual ao número de ')';\n",
    "- Toda expressão deve iniciar com '(';\n",
    "- E toda expressão que não conter parenteses está correta.\n",
    "\n",
    "Após verificar as características acima é feita uma revisão na expressão, caracter por caracter, com uma contagem em que pra cada '(' é somado 1 e pra cada ')' é subtraído 1, tal que esta contagem demonstra a quantidade de parênteses em aberto do começo da expressão até algum caracter. Portanto, podemos inferir algumas possibilidades:\n",
    "- Se esta contagem for menor do que 0, então existem ')' a mais até aquele ponto da expressão;\n",
    "- Se esta contagem for maior do que 0 no último caracter, então existem '(' a mais em toda a expressão;\n",
    "- Se esta contagem for igual a 0 no último caracter, então esta é uma expressão correta."
   ]
  },
  {
   "cell_type": "code",
   "execution_count": 48,
   "metadata": {},
   "outputs": [
    {
     "data": {
      "text/plain": [
       "0       incorrect\n",
       "1       incorrect\n",
       "2       incorrect\n",
       "3       incorrect\n",
       "4       incorrect\n",
       "          ...    \n",
       "9995    incorrect\n",
       "9996    incorrect\n",
       "9997    incorrect\n",
       "9998    incorrect\n",
       "9999    incorrect\n",
       "Name: saída, Length: 10000, dtype: object"
      ]
     },
     "metadata": {},
     "output_type": "display_data"
    },
    {
     "name": "stdout",
     "output_type": "stream",
     "text": [
      "Wall time: 8.14 s\n"
     ]
    }
   ],
   "source": [
    "%%time\n",
    "\n",
    "result = pd.Series('', name=\"saída\") # Uma nova série/coluna é criada para representar os resultados da saída\n",
    "\n",
    "for i in range(len(serie)): # É realizado um loop para analisar cada expressão\n",
    "    S = serie.loc[i] # S é a expressão i da variável serie\n",
    "    parentes = re.sub('\\w|[+|\\-|*|/]','',S) # parentes é uma string contendo somente os parênteses de S\n",
    "    if(parentes.count('(') + parentes.count(')') == 0): # Se não existem parênteses, então é uma expressão correta\n",
    "        result.loc[i] = 'correct'\n",
    "    elif((parentes.count('(') == parentes.count(')')) and (parentes[0] == '(')): # Se o número de '(' for igual ao número de ')' e a expressão começar com '(', então ela é uma possível expressão correta\n",
    "        parentes_count = 0 # parentes_count é a variável de contagem para os parênteses\n",
    "        for C in range(len(parentes)): # É adidionado mais um loop com o número de repetições igual ao número de caracteres de parentes\n",
    "            if(parentes[C] == '('): # Se o caracter da vez for um '(', então é adicionado 1 à contagem\n",
    "                parentes_count = parentes_count + 1\n",
    "            else: # Se o caracter da vez for um ')', então é subtraído 1 à contagem\n",
    "                parentes_count = parentes_count - 1\n",
    "            if(parentes_count < 0): # Se a contagem for menor do que 0 em qualquer momento, então quer dizer que a expressão é incorreta\n",
    "                result.loc[i] = 'incorrect'\n",
    "                continue # E é passada para a próxima expressão\n",
    "            if(C == len(parentes) - 1): # Se o loop chegar até o último caracter de parentes podemos julgar se a expressão é correta ou não\n",
    "                if(parentes_count == 0): # Se a contagem for igual a 0, então é uma expressão correta\n",
    "                    result.loc[i] = 'correct'\n",
    "                else: # Se a contagem for maior que 0, então é uma expressão incorreta\n",
    "                    result.loc[i] = 'incorrect'\n",
    "    else: # Se a contagem de '(' e ')' forem diferentes e alguma delas for maior que 0 ou parentes começar com ')', então a expressão é incorreta\n",
    "        result.loc[i] = 'incorrect'\n",
    "\n",
    "result.to_pickle(\"result.pkl.compress\", compression=\"gzip\") # Salvar os dados de saída\n",
    "\n",
    "display(result)"
   ]
  },
  {
   "cell_type": "markdown",
   "metadata": {},
   "source": [
    "## Resultados\n",
    "\n",
    "Nos resultados podemos analisar se os dois têm o mesmo tamanho e ver quantos são corretos e quanto são incorretos."
   ]
  },
  {
   "cell_type": "code",
   "execution_count": 58,
   "metadata": {},
   "outputs": [
    {
     "name": "stdout",
     "output_type": "stream",
     "text": [
      "serie é igual a result? True\n",
      "-----\n"
     ]
    },
    {
     "data": {
      "text/plain": [
       "incorrect    9797\n",
       "correct       203\n",
       "Name: saída, dtype: int64"
      ]
     },
     "metadata": {},
     "output_type": "display_data"
    }
   ],
   "source": [
    "qtde = result.value_counts()\n",
    "\n",
    "print('serie é igual a result?',serie.shape == result.shape)\n",
    "print('-----')\n",
    "display(qtde)"
   ]
  },
  {
   "cell_type": "code",
   "execution_count": null,
   "metadata": {},
   "outputs": [],
   "source": []
  }
 ],
 "metadata": {
  "kernelspec": {
   "display_name": "Python 3",
   "language": "python",
   "name": "python3"
  },
  "language_info": {
   "codemirror_mode": {
    "name": "ipython",
    "version": 3
   },
   "file_extension": ".py",
   "mimetype": "text/x-python",
   "name": "python",
   "nbconvert_exporter": "python",
   "pygments_lexer": "ipython3",
   "version": "3.8.5"
  }
 },
 "nbformat": 4,
 "nbformat_minor": 4
}
